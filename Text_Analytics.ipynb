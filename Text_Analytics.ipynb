{
 "cells": [
  {
   "cell_type": "code",
   "execution_count": 14,
   "id": "5d72ac39-2ea0-4a28-8dec-fa8de2e16190",
   "metadata": {},
   "outputs": [],
   "source": [
    "# Required Libraries\n",
    "import nltk\n",
    "import string\n",
    "import pandas as pd\n",
    "from sklearn.feature_extraction.text import TfidfVectorizer\n",
    "from nltk.tokenize import word_tokenize\n",
    "from nltk.corpus import stopwords\n",
    "from nltk.stem import PorterStemmer, WordNetLemmatizer\n",
    "from nltk import pos_tag"
   ]
  },
  {
   "cell_type": "code",
   "execution_count": 15,
   "id": "a0565dd5-228c-4fcb-9c9a-d98685b5f2e9",
   "metadata": {},
   "outputs": [
    {
     "name": "stderr",
     "output_type": "stream",
     "text": [
      "[nltk_data] Downloading package punkt to\n",
      "[nltk_data]     C:\\Users\\Test\\AppData\\Roaming\\nltk_data...\n",
      "[nltk_data]   Package punkt is already up-to-date!\n",
      "[nltk_data] Downloading package stopwords to\n",
      "[nltk_data]     C:\\Users\\Test\\AppData\\Roaming\\nltk_data...\n",
      "[nltk_data]   Package stopwords is already up-to-date!\n",
      "[nltk_data] Downloading package averaged_perceptron_tagger to\n",
      "[nltk_data]     C:\\Users\\Test\\AppData\\Roaming\\nltk_data...\n",
      "[nltk_data]   Package averaged_perceptron_tagger is already up-to-\n",
      "[nltk_data]       date!\n",
      "[nltk_data] Downloading package wordnet to\n",
      "[nltk_data]     C:\\Users\\Test\\AppData\\Roaming\\nltk_data...\n",
      "[nltk_data]   Package wordnet is already up-to-date!\n"
     ]
    },
    {
     "data": {
      "text/plain": [
       "True"
      ]
     },
     "execution_count": 15,
     "metadata": {},
     "output_type": "execute_result"
    }
   ],
   "source": [
    "# Download necessary NLTK data\n",
    "nltk.download('punkt')\n",
    "nltk.download('stopwords')\n",
    "nltk.download('averaged_perceptron_tagger')\n",
    "nltk.download('wordnet')"
   ]
  },
  {
   "cell_type": "code",
   "execution_count": 16,
   "id": "c8f8e3e5-a8c9-43e5-aa43-6f15e3ec423f",
   "metadata": {},
   "outputs": [],
   "source": [
    "# Sample Document\n",
    "document = \"\"\"Text analytics is a method to extract useful information from unstructured textual data. \n",
    "It includes preprocessing steps like tokenization, POS tagging, removing stop words, stemming, and lemmatization.\"\"\"\n"
   ]
  },
  {
   "cell_type": "code",
   "execution_count": 17,
   "id": "cf12f3a4-75fb-41de-a410-35f36b784834",
   "metadata": {},
   "outputs": [
    {
     "name": "stdout",
     "output_type": "stream",
     "text": [
      "Tokens:\n",
      " ['Text', 'analytics', 'is', 'a', 'method', 'to', 'extract', 'useful', 'information', 'from', 'unstructured', 'textual', 'data', '.', 'It', 'includes', 'preprocessing', 'steps', 'like', 'tokenization', ',', 'POS', 'tagging', ',', 'removing', 'stop', 'words', ',', 'stemming', ',', 'and', 'lemmatization', '.']\n"
     ]
    }
   ],
   "source": [
    "# Step 1: Tokenization\n",
    "tokens = word_tokenize(document)\n",
    "print(\"Tokens:\\n\", tokens)"
   ]
  },
  {
   "cell_type": "code",
   "execution_count": 31,
   "id": "ca28029d-a7fc-4fef-bf47-6cec3d84d844",
   "metadata": {},
   "outputs": [
    {
     "name": "stderr",
     "output_type": "stream",
     "text": [
      "[nltk_data] Downloading package averaged_perceptron_tagger to\n",
      "[nltk_data]     C:\\Users\\Test\\AppData\\Roaming\\nltk_data...\n",
      "[nltk_data]   Package averaged_perceptron_tagger is already up-to-\n",
      "[nltk_data]       date!\n"
     ]
    },
    {
     "data": {
      "text/plain": [
       "True"
      ]
     },
     "execution_count": 31,
     "metadata": {},
     "output_type": "execute_result"
    }
   ],
   "source": [
    "# Step 2: POS Tagging\n",
    "# Download updated tagger manually\n",
    "import nltk\n",
    "nltk.download('averaged_perceptron_tagger')  # Legacy fallback"
   ]
  },
  {
   "cell_type": "code",
   "execution_count": 32,
   "id": "ee67ecd6-c5bb-4f29-bac9-8966f7d3cd7a",
   "metadata": {},
   "outputs": [],
   "source": [
    "# Then run POS tagging\n",
    "from nltk import pos_tag\n",
    "pos_tags = pos_tag(tokens)  # This should now work"
   ]
  },
  {
   "cell_type": "code",
   "execution_count": 33,
   "id": "1b81acf4-35fc-41c3-8be8-2d9455dd4a00",
   "metadata": {},
   "outputs": [
    {
     "name": "stdout",
     "output_type": "stream",
     "text": [
      "\n",
      "Filtered Tokens (without Stopwords and Punctuation):\n",
      " ['Text', 'analytics', 'method', 'extract', 'useful', 'information', 'unstructured', 'textual', 'data', 'includes', 'preprocessing', 'steps', 'like', 'tokenization', 'POS', 'tagging', 'removing', 'stop', 'words', 'stemming', 'lemmatization']\n"
     ]
    }
   ],
   "source": [
    "# Step 3: Stop Words Removal\n",
    "stop_words = set(stopwords.words('english'))\n",
    "filtered_tokens = [word for word in tokens if word.lower() not in stop_words and word not in string.punctuation]\n",
    "print(\"\\nFiltered Tokens (without Stopwords and Punctuation):\\n\", filtered_tokens)\n"
   ]
  },
  {
   "cell_type": "code",
   "execution_count": 34,
   "id": "e3ff21e8-7149-4e38-a271-214485df462e",
   "metadata": {},
   "outputs": [
    {
     "name": "stdout",
     "output_type": "stream",
     "text": [
      "\n",
      "Stemmed Words:\n",
      " ['text', 'analyt', 'method', 'extract', 'use', 'inform', 'unstructur', 'textual', 'data', 'includ', 'preprocess', 'step', 'like', 'token', 'po', 'tag', 'remov', 'stop', 'word', 'stem', 'lemmat']\n"
     ]
    }
   ],
   "source": [
    "# Step 4: Stemming\n",
    "stemmer = PorterStemmer()\n",
    "stemmed_words = [stemmer.stem(word) for word in filtered_tokens]\n",
    "print(\"\\nStemmed Words:\\n\", stemmed_words)"
   ]
  },
  {
   "cell_type": "code",
   "execution_count": 27,
   "id": "6d7047bc-b6df-402c-a319-8b5ca1dc52c5",
   "metadata": {},
   "outputs": [
    {
     "name": "stdout",
     "output_type": "stream",
     "text": [
      "\n",
      "Lemmatized Words:\n",
      " ['Text', 'analytics', 'method', 'extract', 'useful', 'information', 'unstructured', 'textual', 'data', 'includes', 'preprocessing', 'step', 'like', 'tokenization', 'POS', 'tagging', 'removing', 'stop', 'word', 'stemming', 'lemmatization']\n"
     ]
    }
   ],
   "source": [
    "# Step 5: Lemmatization\n",
    "lemmatizer = WordNetLemmatizer()\n",
    "lemmatized_words = [lemmatizer.lemmatize(word) for word in filtered_tokens]\n",
    "print(\"\\nLemmatized Words:\\n\", lemmatized_words)"
   ]
  },
  {
   "cell_type": "code",
   "execution_count": 35,
   "id": "fb7040ad-9baa-43d6-96a8-7fdee25f9666",
   "metadata": {},
   "outputs": [],
   "source": [
    "# Step 6: TF and IDF Calculation using TfidfVectorizer\n",
    "corpus = [document]\n",
    "vectorizer = TfidfVectorizer()\n",
    "X = vectorizer.fit_transform(corpus)"
   ]
  },
  {
   "cell_type": "code",
   "execution_count": 36,
   "id": "997ed3b9-ce7f-4d12-84c9-0935fca88286",
   "metadata": {},
   "outputs": [
    {
     "name": "stdout",
     "output_type": "stream",
     "text": [
      "\n",
      "TF-IDF Representation:\n",
      "\n",
      "   analytics       and      data   extract      from  includes  information  \\\n",
      "0   0.196116  0.196116  0.196116  0.196116  0.196116  0.196116     0.196116   \n",
      "\n",
      "         is        it  lemmatization  ...     steps      stop   tagging  \\\n",
      "0  0.196116  0.196116       0.196116  ...  0.196116  0.196116  0.196116   \n",
      "\n",
      "       text   textual        to  tokenization  unstructured    useful  \\\n",
      "0  0.196116  0.196116  0.196116      0.196116      0.196116  0.196116   \n",
      "\n",
      "      words  \n",
      "0  0.196116  \n",
      "\n",
      "[1 rows x 26 columns]\n"
     ]
    }
   ],
   "source": [
    "# Create DataFrame for TF-IDF Scores\n",
    "df_tfidf = pd.DataFrame(X.toarray(), columns=vectorizer.get_feature_names_out())\n",
    "print(\"\\nTF-IDF Representation:\\n\")\n",
    "print(df_tfidf)"
   ]
  },
  {
   "cell_type": "code",
   "execution_count": null,
   "id": "172e1128-7ac1-4db7-8404-7525fcb7d237",
   "metadata": {},
   "outputs": [],
   "source": []
  }
 ],
 "metadata": {
  "kernelspec": {
   "display_name": "Python 3 (ipykernel)",
   "language": "python",
   "name": "python3"
  },
  "language_info": {
   "codemirror_mode": {
    "name": "ipython",
    "version": 3
   },
   "file_extension": ".py",
   "mimetype": "text/x-python",
   "name": "python",
   "nbconvert_exporter": "python",
   "pygments_lexer": "ipython3",
   "version": "3.12.8"
  }
 },
 "nbformat": 4,
 "nbformat_minor": 5
}
