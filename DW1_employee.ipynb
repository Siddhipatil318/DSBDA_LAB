{
 "cells": [
  {
   "cell_type": "code",
   "execution_count": 1,
   "id": "207a2919-598d-4833-8416-77e0dd7be1b3",
   "metadata": {},
   "outputs": [],
   "source": [
    "import pandas as pd"
   ]
  },
  {
   "cell_type": "code",
   "execution_count": 2,
   "id": "e1daa894-150a-4627-bfd7-3dc81a66a43f",
   "metadata": {},
   "outputs": [],
   "source": [
    "import numpy as np"
   ]
  },
  {
   "cell_type": "code",
   "execution_count": 3,
   "id": "c0dfe27e-7845-4651-993a-438bf0ffe13e",
   "metadata": {},
   "outputs": [],
   "source": [
    "import matplotlib.pyplot as plt"
   ]
  },
  {
   "cell_type": "code",
   "execution_count": 4,
   "id": "cc367913-bd27-4af0-ba2d-403f97a2a7ff",
   "metadata": {},
   "outputs": [],
   "source": [
    "import seaborn as sns"
   ]
  },
  {
   "cell_type": "code",
   "execution_count": 5,
   "id": "86682c89-d179-48cc-8cd0-4683562eedd1",
   "metadata": {},
   "outputs": [],
   "source": [
    "df = pd.read_csv(\"Employee.csv\")"
   ]
  },
  {
   "cell_type": "code",
   "execution_count": 6,
   "id": "35c66fd1-f4c5-467a-9299-5ddf334353b8",
   "metadata": {},
   "outputs": [
    {
     "name": "stdout",
     "output_type": "stream",
     "text": [
      "   Education  JoiningYear       City  PaymentTier  Age  Gender EverBenched  \\\n",
      "0  Bachelors         2017  Bangalore            3   34    Male          No   \n",
      "1  Bachelors         2013       Pune            1   28  Female          No   \n",
      "2  Bachelors         2014  New Delhi            3   38  Female          No   \n",
      "3    Masters         2016  Bangalore            3   27    Male          No   \n",
      "4    Masters         2017       Pune            3   24    Male         Yes   \n",
      "\n",
      "   ExperienceInCurrentDomain  LeaveOrNot  \n",
      "0                          0           0  \n",
      "1                          3           1  \n",
      "2                          2           0  \n",
      "3                          5           1  \n",
      "4                          2           1  \n"
     ]
    }
   ],
   "source": [
    "# Display first few rows\n",
    "print(df.head())"
   ]
  },
  {
   "cell_type": "code",
   "execution_count": 7,
   "id": "8d2b2e34-577c-4097-9acc-67862b704b5b",
   "metadata": {},
   "outputs": [
    {
     "name": "stdout",
     "output_type": "stream",
     "text": [
      "\n",
      "Missing values in each column:\n",
      "Education                    0\n",
      "JoiningYear                  0\n",
      "City                         0\n",
      "PaymentTier                  0\n",
      "Age                          0\n",
      "Gender                       0\n",
      "EverBenched                  0\n",
      "ExperienceInCurrentDomain    0\n",
      "LeaveOrNot                   0\n",
      "dtype: int64\n"
     ]
    }
   ],
   "source": [
    "print(\"\\nMissing values in each column:\")\n",
    "print(df.isnull().sum())"
   ]
  },
  {
   "cell_type": "code",
   "execution_count": 8,
   "id": "352c59eb-984f-4982-913a-f38d46603907",
   "metadata": {},
   "outputs": [
    {
     "name": "stdout",
     "output_type": "stream",
     "text": [
      "\n",
      "Statistical summary:\n",
      "        Education  JoiningYear       City  PaymentTier          Age Gender  \\\n",
      "count        4653  4653.000000       4653  4653.000000  4653.000000   4653   \n",
      "unique          3          NaN          3          NaN          NaN      2   \n",
      "top     Bachelors          NaN  Bangalore          NaN          NaN   Male   \n",
      "freq         3601          NaN       2228          NaN          NaN   2778   \n",
      "mean          NaN  2015.062970        NaN     2.698259    29.393295    NaN   \n",
      "std           NaN     1.863377        NaN     0.561435     4.826087    NaN   \n",
      "min           NaN  2012.000000        NaN     1.000000    22.000000    NaN   \n",
      "25%           NaN  2013.000000        NaN     3.000000    26.000000    NaN   \n",
      "50%           NaN  2015.000000        NaN     3.000000    28.000000    NaN   \n",
      "75%           NaN  2017.000000        NaN     3.000000    32.000000    NaN   \n",
      "max           NaN  2018.000000        NaN     3.000000    41.000000    NaN   \n",
      "\n",
      "       EverBenched  ExperienceInCurrentDomain   LeaveOrNot  \n",
      "count         4653                4653.000000  4653.000000  \n",
      "unique           2                        NaN          NaN  \n",
      "top             No                        NaN          NaN  \n",
      "freq          4175                        NaN          NaN  \n",
      "mean           NaN                   2.905652     0.343864  \n",
      "std            NaN                   1.558240     0.475047  \n",
      "min            NaN                   0.000000     0.000000  \n",
      "25%            NaN                   2.000000     0.000000  \n",
      "50%            NaN                   3.000000     0.000000  \n",
      "75%            NaN                   4.000000     1.000000  \n",
      "max            NaN                   7.000000     1.000000  \n"
     ]
    }
   ],
   "source": [
    "print(\"\\nStatistical summary:\")\n",
    "print(df.describe(include='all'))"
   ]
  },
  {
   "cell_type": "code",
   "execution_count": 9,
   "id": "e4914621-6755-454c-9f09-eb5ef1861b10",
   "metadata": {},
   "outputs": [
    {
     "name": "stdout",
     "output_type": "stream",
     "text": [
      "\n",
      "Dimensions of the DataFrame:\n",
      "(4653, 9)\n"
     ]
    }
   ],
   "source": [
    "print(\"\\nDimensions of the DataFrame:\")\n",
    "print(df.shape)"
   ]
  },
  {
   "cell_type": "code",
   "execution_count": 10,
   "id": "d6e45299-ceef-4bf5-8cdf-5fa24b39911f",
   "metadata": {},
   "outputs": [
    {
     "name": "stdout",
     "output_type": "stream",
     "text": [
      "\n",
      "Column names and data types:\n",
      "Education                    object\n",
      "JoiningYear                   int64\n",
      "City                         object\n",
      "PaymentTier                   int64\n",
      "Age                           int64\n",
      "Gender                       object\n",
      "EverBenched                  object\n",
      "ExperienceInCurrentDomain     int64\n",
      "LeaveOrNot                    int64\n",
      "dtype: object\n"
     ]
    }
   ],
   "source": [
    "print(\"\\nColumn names and data types:\")\n",
    "print(df.dtypes)"
   ]
  },
  {
   "cell_type": "code",
   "execution_count": 11,
   "id": "73068a01-2b44-40cd-a8ed-dd9e72b65569",
   "metadata": {},
   "outputs": [],
   "source": [
    "# Convert 'object' type columns to 'category' where appropriate\n",
    "for col in df.select_dtypes(include='object').columns:\n",
    "    df[col] = df[col].astype('category')"
   ]
  },
  {
   "cell_type": "code",
   "execution_count": 12,
   "id": "4d6d2155-df1b-449d-acef-5c237a05af7b",
   "metadata": {},
   "outputs": [
    {
     "data": {
      "text/plain": [
       "Education                    category\n",
       "JoiningYear                     int64\n",
       "City                         category\n",
       "PaymentTier                     int64\n",
       "Age                             int64\n",
       "Gender                       category\n",
       "EverBenched                  category\n",
       "ExperienceInCurrentDomain       int64\n",
       "LeaveOrNot                      int64\n",
       "dtype: object"
      ]
     },
     "execution_count": 12,
     "metadata": {},
     "output_type": "execute_result"
    }
   ],
   "source": [
    "# Verify data types after conversion\n",
    "df.dtypes"
   ]
  },
  {
   "cell_type": "code",
   "execution_count": 13,
   "id": "aac55eba-9277-408a-8cee-c03558697a55",
   "metadata": {},
   "outputs": [],
   "source": [
    "# Z-Score normalization for the 'Age' column\n",
    "# Z = (value - mean) / standard deviation\n",
    "df['Age_Z'] = (df['Age'] - df['Age'].mean()) / df['Age'].std()"
   ]
  },
  {
   "cell_type": "code",
   "execution_count": 14,
   "id": "3e6d49c1-1d59-4627-a713-d4da9495c00e",
   "metadata": {},
   "outputs": [
    {
     "data": {
      "image/png": "[encoded data removed]",
      "text/plain": [
       "<Figure size 600x400 with 1 Axes>"
      ]
     },
     "metadata": {},
     "output_type": "display_data"
    }
   ],
   "source": [
    "# Plotting the normalized 'Age' column using a boxplot\n",
    "plt.figure(figsize=(6, 4))\n",
    "sns.boxplot(x=df['Age_Z'])  # Boxplot of the normalized Age\n",
    "plt.title(\"Boxplot of Z-Score Normalized Age\")\n",
    "plt.xlabel(\"Z-Score of Age\")\n",
    "plt.show()"
   ]
  },
  {
   "cell_type": "code",
   "execution_count": 15,
   "id": "750236a5-d1b4-44a9-9a92-943e9b04d1ed",
   "metadata": {},
   "outputs": [],
   "source": [
    "# Columns to encode: 'Education', 'City', 'Gender', 'EverBenched'\n",
    "# drop_first=True removes one dummy variable to avoid multicollinearity (dummy variable trap)\n",
    "\n",
    "df_encoded = pd.get_dummies(\n",
    "    df,\n",
    "    columns=['Education', 'City', 'Gender', 'EverBenched'],\n",
    "    drop_first=True\n",
    ")    "
   ]
  },
  {
   "cell_type": "code",
   "execution_count": 16,
   "id": "06b6c15e-ee21-453c-9cf9-08d82f21913e",
   "metadata": {},
   "outputs": [
    {
     "data": {
      "text/html": [
       "<div>\n",
       "<style scoped>\n",
       "    .dataframe tbody tr th:only-of-type {\n",
       "        vertical-align: middle;\n",
       "    }\n",
       "\n",
       "    .dataframe tbody tr th {\n",
       "        vertical-align: top;\n",
       "    }\n",
       "\n",
       "    .dataframe thead th {\n",
       "        text-align: right;\n",
       "    }\n",
       "</style>\n",
       "<table border=\"1\" class=\"dataframe\">\n",
       "  <thead>\n",
       "    <tr style=\"text-align: right;\">\n",
       "      <th></th>\n",
       "      <th>JoiningYear</th>\n",
       "      <th>PaymentTier</th>\n",
       "      <th>Age</th>\n",
       "      <th>ExperienceInCurrentDomain</th>\n",
       "      <th>LeaveOrNot</th>\n",
       "      <th>Age_Z</th>\n",
       "      <th>Education_Masters</th>\n",
       "      <th>Education_PHD</th>\n",
       "      <th>City_New Delhi</th>\n",
       "      <th>City_Pune</th>\n",
       "      <th>Gender_Male</th>\n",
       "      <th>EverBenched_Yes</th>\n",
       "    </tr>\n",
       "  </thead>\n",
       "  <tbody>\n",
       "    <tr>\n",
       "      <th>0</th>\n",
       "      <td>2017</td>\n",
       "      <td>3</td>\n",
       "      <td>34</td>\n",
       "      <td>0</td>\n",
       "      <td>0</td>\n",
       "      <td>0.954543</td>\n",
       "      <td>False</td>\n",
       "      <td>False</td>\n",
       "      <td>False</td>\n",
       "      <td>False</td>\n",
       "      <td>True</td>\n",
       "      <td>False</td>\n",
       "    </tr>\n",
       "    <tr>\n",
       "      <th>1</th>\n",
       "      <td>2013</td>\n",
       "      <td>1</td>\n",
       "      <td>28</td>\n",
       "      <td>3</td>\n",
       "      <td>1</td>\n",
       "      <td>-0.288701</td>\n",
       "      <td>False</td>\n",
       "      <td>False</td>\n",
       "      <td>False</td>\n",
       "      <td>True</td>\n",
       "      <td>False</td>\n",
       "      <td>False</td>\n",
       "    </tr>\n",
       "    <tr>\n",
       "      <th>2</th>\n",
       "      <td>2014</td>\n",
       "      <td>3</td>\n",
       "      <td>38</td>\n",
       "      <td>2</td>\n",
       "      <td>0</td>\n",
       "      <td>1.783371</td>\n",
       "      <td>False</td>\n",
       "      <td>False</td>\n",
       "      <td>True</td>\n",
       "      <td>False</td>\n",
       "      <td>False</td>\n",
       "      <td>False</td>\n",
       "    </tr>\n",
       "    <tr>\n",
       "      <th>3</th>\n",
       "      <td>2016</td>\n",
       "      <td>3</td>\n",
       "      <td>27</td>\n",
       "      <td>5</td>\n",
       "      <td>1</td>\n",
       "      <td>-0.495908</td>\n",
       "      <td>True</td>\n",
       "      <td>False</td>\n",
       "      <td>False</td>\n",
       "      <td>False</td>\n",
       "      <td>True</td>\n",
       "      <td>False</td>\n",
       "    </tr>\n",
       "    <tr>\n",
       "      <th>4</th>\n",
       "      <td>2017</td>\n",
       "      <td>3</td>\n",
       "      <td>24</td>\n",
       "      <td>2</td>\n",
       "      <td>1</td>\n",
       "      <td>-1.117530</td>\n",
       "      <td>True</td>\n",
       "      <td>False</td>\n",
       "      <td>False</td>\n",
       "      <td>True</td>\n",
       "      <td>True</td>\n",
       "      <td>True</td>\n",
       "    </tr>\n",
       "  </tbody>\n",
       "</table>\n",
       "</div>"
      ],
      "text/plain": [
       "   JoiningYear  PaymentTier  Age  ExperienceInCurrentDomain  LeaveOrNot  \\\n",
       "0         2017            3   34                          0           0   \n",
       "1         2013            1   28                          3           1   \n",
       "2         2014            3   38                          2           0   \n",
       "3         2016            3   27                          5           1   \n",
       "4         2017            3   24                          2           1   \n",
       "\n",
       "      Age_Z  Education_Masters  Education_PHD  City_New Delhi  City_Pune  \\\n",
       "0  0.954543              False          False           False      False   \n",
       "1 -0.288701              False          False           False       True   \n",
       "2  1.783371              False          False            True      False   \n",
       "3 -0.495908               True          False           False      False   \n",
       "4 -1.117530               True          False           False       True   \n",
       "\n",
       "   Gender_Male  EverBenched_Yes  \n",
       "0         True            False  \n",
       "1        False            False  \n",
       "2        False            False  \n",
       "3         True            False  \n",
       "4         True             True  "
      ]
     },
     "execution_count": 16,
     "metadata": {},
     "output_type": "execute_result"
    }
   ],
   "source": [
    "# Display the first 5 rows of the new encoded DataFrame\n",
    "df_encoded.head()"
   ]
  },
  {
   "cell_type": "code",
   "execution_count": null,
   "id": "f23f02e9-af14-4027-b44b-b14c953413dc",
   "metadata": {},
   "outputs": [],
   "source": []
  }
 ],
 "metadata": {
  "kernelspec": {
   "display_name": "Python 3 (ipykernel)",
   "language": "python",
   "name": "python3"
  },
  "language_info": {
   "codemirror_mode": {
    "name": "ipython",
    "version": 3
   },
   "file_extension": ".py",
   "mimetype": "text/x-python",
   "name": "python",
   "nbconvert_exporter": "python",
   "pygments_lexer": "ipython3",
   "version": "3.12.8"
  }
 },
 "nbformat": 4,
 "nbformat_minor": 5
}
