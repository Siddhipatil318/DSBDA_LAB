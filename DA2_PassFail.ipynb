{
 "cells": [
  {
   "cell_type": "code",
   "execution_count": 2,
   "id": "69166cf4-3245-4769-96a3-f70459ec8f22",
   "metadata": {},
   "outputs": [],
   "source": [
    "# 📌 Step 1: Import required libraries\n",
    "import numpy as np\n",
    "import pandas as pd\n",
    "import matplotlib.pyplot as plt\n",
    "import seaborn as sns\n",
    "from sklearn.linear_model import LogisticRegression\n",
    "from sklearn.metrics import confusion_matrix, accuracy_score, precision_score, recall_score"
   ]
  },
  {
   "cell_type": "code",
   "execution_count": 3,
   "id": "2779abc1-8440-477f-b225-deab25ade0ac",
   "metadata": {},
   "outputs": [
    {
     "name": "stdout",
     "output_type": "stream",
     "text": [
      "Prediction for 25 hours: Fail\n",
      "Prediction for 42 hours: Pass\n"
     ]
    },
    {
     "name": "stderr",
     "output_type": "stream",
     "text": [
      "C:\\Users\\Test\\AppData\\Local\\Programs\\Python\\Python312\\Lib\\site-packages\\sklearn\\utils\\validation.py:2739: UserWarning: X does not have valid feature names, but LogisticRegression was fitted with feature names\n",
      "  warnings.warn(\n"
     ]
    }
   ],
   "source": [
    "# 📌 Step 2: Create the dataset\n",
    "data = {\n",
    "    'StudyHours': [29, 15, 33, 48, 39],\n",
    "    'PassFail': [0, 0, 1, 1, 1]\n",
    "}\n",
    "df = pd.DataFrame(data)\n",
    "\n",
    "# 📌 Step 3: Prepare input (X) and target (y)\n",
    "X = df[['StudyHours']]  # Feature must be 2D\n",
    "y = df['PassFail']\n",
    "\n",
    "# 📌 Step 4: Train Logistic Regression model\n",
    "model = LogisticRegression()\n",
    "model.fit(X, y)\n",
    "\n",
    "# 📌 Step 5: Predict pass/fail for 25 and 42 hours\n",
    "predictions = model.predict([[25], [42]])\n",
    "print(f\"Prediction for 25 hours: {'Pass' if predictions[0] == 1 else 'Fail'}\")\n",
    "print(f\"Prediction for 42 hours: {'Pass' if predictions[1] == 1 else 'Fail'}\")"
   ]
  },
  {
   "cell_type": "code",
   "execution_count": 9,
   "id": "52ed1453-9554-4133-af07-0883e2eb45bf",
   "metadata": {},
   "outputs": [],
   "source": [
    "y_pred = model.predict(X)  # or model.predict(X_test), depending on your split"
   ]
  },
  {
   "cell_type": "code",
   "execution_count": 10,
   "id": "58132571-033e-46f6-b43e-51e2534ea75b",
   "metadata": {},
   "outputs": [
    {
     "name": "stdout",
     "output_type": "stream",
     "text": [
      "\n",
      "Confusion Matrix:\n",
      " [[2 0]\n",
      " [0 3]]\n",
      "Accuracy     = 1.00\n",
      "Error Rate   = 0.00\n",
      "Precision    = 1.00\n",
      "Recall       = 1.00\n"
     ]
    }
   ],
   "source": [
    "from sklearn.metrics import confusion_matrix, precision_score, recall_score\n",
    "\n",
    "# Predict labels\n",
    "y_pred = model.predict(X)  # Replace X with X_test if you split data\n",
    "\n",
    "# Compute confusion matrix\n",
    "cm = confusion_matrix(y, y_pred)\n",
    "TN, FP, FN, TP = cm.ravel()\n",
    "\n",
    "print(\"\\nConfusion Matrix:\\n\", cm)\n",
    "print(f\"Accuracy     = {(TP + TN) / (TP + TN + FP + FN):.2f}\")\n",
    "print(f\"Error Rate   = {(FP + FN) / (TP + TN + FP + FN):.2f}\")\n",
    "print(f\"Precision    = {precision_score(y, y_pred):.2f}\")\n",
    "print(f\"Recall       = {recall_score(y, y_pred):.2f}\")"
   ]
  },
  {
   "cell_type": "code",
   "execution_count": 11,
   "id": "81875983-a1a6-4fd4-9bec-c8b0198d2f63",
   "metadata": {},
   "outputs": [
    {
     "data": {
      "image/png": "[encoded data removed]",
      "text/plain": [
       "<Figure size 500x400 with 2 Axes>"
      ]
     },
     "metadata": {},
     "output_type": "display_data"
    }
   ],
   "source": [
    "# 📌 Step 8: Plot confusion matrix\n",
    "plt.figure(figsize=(5,4))\n",
    "sns.heatmap(cm, annot=True, fmt='d', cmap='Greens', xticklabels=['Pred 0', 'Pred 1'], yticklabels=['Actual 0', 'Actual 1'])\n",
    "plt.title(\"Confusion Matrix\")\n",
    "plt.xlabel(\"Predicted Label\")\n",
    "plt.ylabel(\"True Label\")\n",
    "plt.show()"
   ]
  },
  {
   "cell_type": "code",
   "execution_count": null,
   "id": "2342f2f1-2927-44ad-bc0c-08ee2e2b9c7b",
   "metadata": {},
   "outputs": [],
   "source": []
  }
 ],
 "metadata": {
  "kernelspec": {
   "display_name": "Python 3 (ipykernel)",
   "language": "python",
   "name": "python3"
  },
  "language_info": {
   "codemirror_mode": {
    "name": "ipython",
    "version": 3
   },
   "file_extension": ".py",
   "mimetype": "text/x-python",
   "name": "python",
   "nbconvert_exporter": "python",
   "pygments_lexer": "ipython3",
   "version": "3.12.8"
  }
 },
 "nbformat": 4,
 "nbformat_minor": 5
}
