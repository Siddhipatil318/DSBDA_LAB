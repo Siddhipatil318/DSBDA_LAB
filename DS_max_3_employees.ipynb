{
 "cells": [
  {
   "cell_type": "code",
   "execution_count": 3,
   "id": "0c53dc16-77da-4970-aab5-c2b392abcf4c",
   "metadata": {},
   "outputs": [],
   "source": [
    "# 1. Import necessary libraries\n",
    "import pandas as pd\n",
    "import numpy as np\n",
    "import seaborn as sns\n",
    "import matplotlib.pyplot as plt"
   ]
  },
  {
   "cell_type": "code",
   "execution_count": 4,
   "id": "2aa84225-072b-4843-97ea-812cf79ac5b6",
   "metadata": {},
   "outputs": [],
   "source": [
    "# 2. Load the dataset\n",
    "df = pd.read_csv(\"3_employees.csv\" )"
   ]
  },
  {
   "cell_type": "code",
   "execution_count": 5,
   "id": "c9ab7fa0-e249-49a9-8725-3401a2e4fbed",
   "metadata": {},
   "outputs": [
    {
     "name": "stdout",
     "output_type": "stream",
     "text": [
      "First 5 rows of dataset:\n",
      "   EMPLOYEE_ID FIRST_NAME  LAST_NAME     EMAIL  PHONE_NUMBER  HIRE_DATE  \\\n",
      "0          198     Donald   OConnell  DOCONNEL  650.507.9833  21-JUN-07   \n",
      "1          199    Douglas      Grant    DGRANT  650.507.9844  13-JAN-08   \n",
      "2          200   Jennifer     Whalen   JWHALEN  515.123.4444  17-SEP-03   \n",
      "3          201    Michael  Hartstein  MHARTSTE  515.123.5555  17-FEB-04   \n",
      "4          202        Pat        Fay      PFAY  603.123.6666  17-AUG-05   \n",
      "\n",
      "     JOB_ID  SALARY COMMISSION_PCT MANAGER_ID  DEPARTMENT_ID  \n",
      "0  SH_CLERK    2600             -         124             50  \n",
      "1  SH_CLERK    2600             -         124             50  \n",
      "2   AD_ASST    4400             -         101             10  \n",
      "3    MK_MAN   13000             -         100             20  \n",
      "4    MK_REP    6000             -         201             20  \n"
     ]
    }
   ],
   "source": [
    "print(\"First 5 rows of dataset:\")\n",
    "print(df.head())"
   ]
  },
  {
   "cell_type": "code",
   "execution_count": 6,
   "id": "53a44613-1dd3-4dbc-ab30-1bba96dfbec2",
   "metadata": {},
   "outputs": [
    {
     "name": "stdout",
     "output_type": "stream",
     "text": [
      "\n",
      "--- Summary Statistics ---\n",
      "Maximum Salary: 24000\n",
      "Standard Deviation of Salary: 4586.181771631929\n",
      "Covariance between Salary and Department_ID: 60175.477551020515\n"
     ]
    }
   ],
   "source": [
    "# 3. Summary Statistics (max, std, covariance)\n",
    "print(\"\\n--- Summary Statistics ---\")\n",
    "max_salary = df['SALARY'].max()\n",
    "std_salary = df['SALARY'].std()\n",
    "cov_salary_dept = df[['SALARY', 'DEPARTMENT_ID']].cov().iloc[0, 1]\n",
    "\n",
    "print(f\"Maximum Salary: {max_salary}\")\n",
    "print(f\"Standard Deviation of Salary: {std_salary}\")\n",
    "print(f\"Covariance between Salary and Department_ID: {cov_salary_dept}\")"
   ]
  },
  {
   "cell_type": "code",
   "execution_count": 7,
   "id": "98e6c05d-e659-4cd5-9e0b-d77588f7ddac",
   "metadata": {},
   "outputs": [
    {
     "name": "stdout",
     "output_type": "stream",
     "text": [
      "\n",
      "--- Grouped Summary by DEPARTMENT_ID ---\n",
      "               count          mean          std      min      25%      50%  \\\n",
      "DEPARTMENT_ID                                                                \n",
      "10               1.0   4400.000000          NaN   4400.0   4400.0   4400.0   \n",
      "20               2.0   9500.000000  4949.747468   6000.0   7750.0   9500.0   \n",
      "30               6.0   4150.000000  3362.588289   2500.0   2650.0   2850.0   \n",
      "40               1.0   6500.000000          NaN   6500.0   6500.0   6500.0   \n",
      "50              23.0   3721.739130  2007.249706   2100.0   2500.0   2800.0   \n",
      "60               5.0   5760.000000  1925.616784   4200.0   4800.0   4800.0   \n",
      "70               1.0  10000.000000          NaN  10000.0  10000.0  10000.0   \n",
      "90               3.0  19333.333333  4041.451884  17000.0  17000.0  17000.0   \n",
      "100              6.0   8601.333333  1804.131555   6900.0   7725.0   8000.0   \n",
      "110              2.0  10154.000000  2621.951945   8300.0   9227.0  10154.0   \n",
      "\n",
      "                   75%      max  \n",
      "DEPARTMENT_ID                    \n",
      "10              4400.0   4400.0  \n",
      "20             11250.0  13000.0  \n",
      "30              3050.0  11000.0  \n",
      "40              6500.0   6500.0  \n",
      "50              3450.0   8200.0  \n",
      "60              6000.0   9000.0  \n",
      "70             10000.0  10000.0  \n",
      "90             20500.0  24000.0  \n",
      "100             8800.0  12008.0  \n",
      "110            11081.0  12008.0  \n",
      "\n",
      "--- Salary Lists by DEPARTMENT_ID ---\n",
      "DEPARTMENT_ID\n",
      "10                                                [4400]\n",
      "20                                         [13000, 6000]\n",
      "30                 [11000, 3100, 2900, 2800, 2600, 2500]\n",
      "40                                                [6500]\n",
      "50     [2600, 2600, 8000, 8200, 7900, 6500, 5800, 320...\n",
      "60                        [9000, 6000, 4800, 4800, 4200]\n",
      "70                                               [10000]\n",
      "90                                 [24000, 17000, 17000]\n",
      "100                [12008, 9000, 8200, 7700, 7800, 6900]\n",
      "110                                        [12008, 8300]\n",
      "Name: SALARY, dtype: object\n"
     ]
    }
   ],
   "source": [
    "# 4. Grouped Summary Statistics by DEPARTMENT_ID\n",
    "print(\"\\n--- Grouped Summary by DEPARTMENT_ID ---\")\n",
    "grouped_salary = df.groupby('DEPARTMENT_ID')['SALARY'].describe()\n",
    "print(grouped_salary)\n",
    "\n",
    "# Numeric list of salary values for each DEPARTMENT_ID\n",
    "print(\"\\n--- Salary Lists by DEPARTMENT_ID ---\")\n",
    "grouped_salary_lists = df.groupby('DEPARTMENT_ID')['SALARY'].apply(list)\n",
    "print(grouped_salary_lists)"
   ]
  },
  {
   "cell_type": "code",
   "execution_count": 6,
   "id": "d2c64ff1-9c8e-4a58-91a7-836f878d2684",
   "metadata": {},
   "outputs": [
    {
     "name": "stdout",
     "output_type": "stream",
     "text": [
      "\n",
      "--- JOB_ID Counts ---\n",
      "JOB_ID\n",
      "ST_CLERK      16\n",
      "ST_MAN         5\n",
      "PU_CLERK       5\n",
      "FI_ACCOUNT     5\n",
      "IT_PROG        5\n",
      "AD_VP          2\n",
      "SH_CLERK       2\n",
      "AC_ACCOUNT     1\n",
      "AD_ASST        1\n",
      "AC_MGR         1\n",
      "PR_REP         1\n",
      "FI_MGR         1\n",
      "HR_REP         1\n",
      "PU_MAN         1\n",
      "MK_REP         1\n",
      "MK_MAN         1\n",
      "AD_PRES        1\n",
      "Name: count, dtype: int64\n"
     ]
    }
   ],
   "source": [
    "# 5. JOB_ID Count\n",
    "print(\"\\n--- JOB_ID Counts ---\")\n",
    "job_id_counts = df['JOB_ID'].value_counts()\n",
    "print(job_id_counts)"
   ]
  },
  {
   "cell_type": "code",
   "execution_count": 8,
   "id": "180a3153-a1ed-453e-9344-470b6d1622fd",
   "metadata": {},
   "outputs": [
    {
     "data": {
      "image/png": "[encoded data removed]",
      "text/plain": [
       "<Figure size 1000x600 with 1 Axes>"
      ]
     },
     "metadata": {},
     "output_type": "display_data"
    }
   ],
   "source": [
    "# 6. Visualization of Salary Distribution\n",
    "plt.figure(figsize=(10, 6))\n",
    "sns.histplot(df['SALARY'].dropna(), bins=15, kde=True, color='skyblue')\n",
    "plt.title('Salary Distribution')\n",
    "plt.xlabel('Salary')\n",
    "plt.ylabel('Frequency')\n",
    "plt.tight_layout()\n",
    "plt.show()"
   ]
  },
  {
   "cell_type": "code",
   "execution_count": null,
   "id": "f057fb94-7fd6-473a-9edc-adbd2b451d21",
   "metadata": {},
   "outputs": [],
   "source": []
  }
 ],
 "metadata": {
  "kernelspec": {
   "display_name": "Python 3 (ipykernel)",
   "language": "python",
   "name": "python3"
  },
  "language_info": {
   "codemirror_mode": {
    "name": "ipython",
    "version": 3
   },
   "file_extension": ".py",
   "mimetype": "text/x-python",
   "name": "python",
   "nbconvert_exporter": "python",
   "pygments_lexer": "ipython3",
   "version": "3.12.8"
  }
 },
 "nbformat": 4,
 "nbformat_minor": 5
}
