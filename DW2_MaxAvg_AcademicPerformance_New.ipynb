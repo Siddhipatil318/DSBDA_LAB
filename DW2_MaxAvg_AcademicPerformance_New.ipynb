{
 "cells": [
  {
   "cell_type": "code",
   "execution_count": 1,
   "id": "481adf16-02ba-455e-b3d6-e0919873006b",
   "metadata": {},
   "outputs": [],
   "source": [
    "import pandas as pd\n",
    "import numpy as np\n",
    "import seaborn as sns\n",
    "import matplotlib.pyplot as plt"
   ]
  },
  {
   "cell_type": "code",
   "execution_count": 2,
   "id": "c17144c5-d992-4ade-84b8-f0e176e2b6f7",
   "metadata": {},
   "outputs": [
    {
     "name": "stdout",
     "output_type": "stream",
     "text": [
      "Initial Dataset Shape: (99, 8)\n",
      "\n",
      "Missing Values Before Cleaning:\n",
      " Roll No         1\n",
      "NationalITy     1\n",
      "WT              8\n",
      "DSBDA           4\n",
      "AI             10\n",
      "Average         1\n",
      "Grade           1\n",
      "PG              1\n",
      "dtype: int64\n"
     ]
    }
   ],
   "source": [
    "df = pd.read_csv(\"AcademicPerformance_New.csv\")\n",
    "print(\"Initial Dataset Shape:\", df.shape)\n",
    "print(\"\\nMissing Values Before Cleaning:\\n\", df.isnull().sum())"
   ]
  },
  {
   "cell_type": "code",
   "execution_count": 3,
   "id": "41b1ce61-1829-4da8-bbb9-6eb33a32d31a",
   "metadata": {},
   "outputs": [
    {
     "name": "stdout",
     "output_type": "stream",
     "text": [
      "\n",
      "Missing Values After Cleaning:\n",
      " Roll No        0\n",
      "NationalITy    0\n",
      "WT             0\n",
      "DSBDA          0\n",
      "AI             0\n",
      "Average        0\n",
      "Grade          0\n",
      "PG             0\n",
      "dtype: int64\n"
     ]
    }
   ],
   "source": [
    "# Step 1: Handle Missing Values\n",
    "# Fill missing values in a single column (example: WT) with median\n",
    "df['WT'] = df['WT'].fillna(df['WT'].median())\n",
    "\n",
    "# Fill missing values in whole dataset:\n",
    "# Use median for numeric columns, and 0 for categorical (as a placeholder)\n",
    "numeric_cols = df.select_dtypes(include=np.number).columns\n",
    "categorical_cols = df.select_dtypes(exclude=np.number).columns\n",
    "\n",
    "# Fill numeric columns with median\n",
    "for col in numeric_cols:\n",
    "    df[col] = df[col].fillna(df[col].median())\n",
    "\n",
    "# Fill categorical columns with 0 (as a string '0')\n",
    "for col in categorical_cols:\n",
    "    df[col] = df[col].fillna('0')\n",
    "\n",
    "print(\"\\nMissing Values After Cleaning:\\n\", df.isnull().sum())"
   ]
  },
  {
   "cell_type": "code",
   "execution_count": 4,
   "id": "cb415623-4a06-4484-b2cb-12e4e5cd6caa",
   "metadata": {},
   "outputs": [
    {
     "name": "stdout",
     "output_type": "stream",
     "text": [
      "\n",
      "Roll No:\n",
      "  Q1 = 26.50, Q3 = 74.50\n",
      "  Outliers in Roll No: 0\n",
      "\n",
      "WT:\n",
      "  Q1 = 53.00, Q3 = 71.00\n",
      "  Outliers in WT: 1\n",
      "\n",
      "DSBDA:\n",
      "  Q1 = 55.00, Q3 = 74.00\n",
      "  Outliers in DSBDA: 1\n",
      "\n",
      "AI:\n",
      "  Q1 = 54.00, Q3 = 74.00\n",
      "  Outliers in AI: 2\n",
      "\n",
      "Average:\n",
      "  Q1 = 45.50, Q3 = 71.83\n",
      "  Outliers in Average: 0\n",
      "\n",
      "Total unique outlier rows: 3\n",
      "    Roll No NationalITy    WT  DSBDA    AI    Average Grade   PG\n",
      "17     18.0      Rassia  18.0   32.0  28.0  26.000000     D  Yes\n",
      "76     77.0         USA  30.0   26.0  22.0  26.000000     D  Yes\n",
      "59     60.0      Rassia  70.0   50.0  20.0  46.666667     D  Yes\n"
     ]
    }
   ],
   "source": [
    "# Step 2: Detect Outliers using IQR\n",
    "outlier_list = []  # collect DataFrames with outliers\n",
    "\n",
    "for col in numeric_cols:\n",
    "    Q1 = df[col].quantile(0.25)\n",
    "    Q3 = df[col].quantile(0.75)\n",
    "    IQR = Q3 - Q1\n",
    "    lower = Q1 - 1.5 * IQR\n",
    "    upper = Q3 + 1.5 * IQR\n",
    "    condition = (df[col] < lower) | (df[col] > upper)\n",
    "    outliers = df[condition]\n",
    "\n",
    "    # Append outliers to list\n",
    "    if not outliers.empty:\n",
    "        outlier_list.append(outliers)\n",
    "\n",
    "    # Show Q1, Q3, and number of outliers\n",
    "    print(f\"\\n{col}:\\n  Q1 = {Q1:.2f}, Q3 = {Q3:.2f}\")\n",
    "    print(f\"  Outliers in {col}: {condition.sum()}\")\n",
    "\n",
    "# Concatenate all outliers if needed\n",
    "all_outliers = pd.concat(outlier_list).drop_duplicates()\n",
    "print(f\"\\nTotal unique outlier rows: {all_outliers.shape[0]}\")\n",
    "print(all_outliers)"
   ]
  },
  {
   "cell_type": "code",
   "execution_count": 5,
   "id": "f797d140-15af-48cc-999c-3c298857d625",
   "metadata": {},
   "outputs": [
    {
     "name": "stdout",
     "output_type": "stream",
     "text": [
      "\n",
      "Shape After Removing Outliers: (96, 8)\n"
     ]
    }
   ],
   "source": [
    "# Step 3: Remove Outliers\n",
    "df_cleaned = df.copy()\n",
    "for col in numeric_cols:\n",
    "    Q1 = df[col].quantile(0.25)\n",
    "    Q3 = df[col].quantile(0.75)\n",
    "    IQR = Q3 - Q1\n",
    "    lower = Q1 - 1.5 * IQR\n",
    "    upper = Q3 + 1.5 * IQR\n",
    "    df_cleaned = df_cleaned[(df_cleaned[col] >= lower) & (df_cleaned[col] <= upper)]\n",
    "\n",
    "print(\"\\nShape After Removing Outliers:\", df_cleaned.shape)\n"
   ]
  },
  {
   "cell_type": "code",
   "execution_count": 6,
   "id": "807db170-95b0-4423-aae2-05aa8d534fa8",
   "metadata": {},
   "outputs": [
    {
     "name": "stdout",
     "output_type": "stream",
     "text": [
      "\n",
      "Aggregation Stats:\n",
      "WT - Max: 97.0, Avg: 62.00\n",
      "DSBDA - Max: 95.0, Avg: 65.60\n",
      "AI - Max: 92.0, Avg: 63.53\n",
      "Average - Max: 91.6666666667, Avg: 59.48\n"
     ]
    }
   ],
   "source": [
    "# Step 4: Aggregation Function (Max, Avg)\n",
    "# Reason: Aggregation helps reduce skewness and aids visualization\n",
    "print(\"\\nAggregation Stats:\")\n",
    "for col in ['WT', 'DSBDA', 'AI', 'Average']:\n",
    "    max_val = df_cleaned[col].max()\n",
    "    mean_val = df_cleaned[col].mean()\n",
    "    print(f\"{col} - Max: {max_val}, Avg: {mean_val:.2f}\")"
   ]
  },
  {
   "cell_type": "code",
   "execution_count": 7,
   "id": "bfd8c0c2-538f-42c8-ae2d-c542092df1c2",
   "metadata": {},
   "outputs": [
    {
     "data": {
      "image/png": "[encoded data removed]",
      "text/plain": [
       "<Figure size 800x600 with 1 Axes>"
      ]
     },
     "metadata": {},
     "output_type": "display_data"
    }
   ],
   "source": [
    "# Step 5: Scatter Plot\n",
    "plt.figure(figsize=(8, 6))\n",
    "sns.scatterplot(x='DSBDA', y='AI', data=df_cleaned)\n",
    "plt.title(\"Scatter Plot: DSBDA vs AI\")\n",
    "plt.xlabel(\"DSBDA\")\n",
    "plt.ylabel(\"AI\")\n",
    "plt.grid(True)\n",
    "plt.tight_layout()\n",
    "plt.show()"
   ]
  },
  {
   "cell_type": "code",
   "execution_count": null,
   "id": "3de806fd-138a-4199-89a0-76984c916627",
   "metadata": {},
   "outputs": [],
   "source": []
  }
 ],
 "metadata": {
  "kernelspec": {
   "display_name": "Python 3 (ipykernel)",
   "language": "python",
   "name": "python3"
  },
  "language_info": {
   "codemirror_mode": {
    "name": "ipython",
    "version": 3
   },
   "file_extension": ".py",
   "mimetype": "text/x-python",
   "name": "python",
   "nbconvert_exporter": "python",
   "pygments_lexer": "ipython3",
   "version": "3.12.8"
  }
 },
 "nbformat": 4,
 "nbformat_minor": 5
}
